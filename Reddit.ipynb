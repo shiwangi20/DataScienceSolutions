{
  "nbformat": 4,
  "nbformat_minor": 0,
  "metadata": {
    "colab": {
      "name": "Reddit.ipynb",
      "provenance": [],
      "authorship_tag": "ABX9TyMS7oWshu2he8dNjkhMNkUz",
      "include_colab_link": true
    },
    "kernelspec": {
      "name": "python3",
      "display_name": "Python 3"
    }
  },
  "cells": [
    {
      "cell_type": "markdown",
      "metadata": {
        "id": "view-in-github",
        "colab_type": "text"
      },
      "source": [
        "<a href=\"https://colab.research.google.com/github/shiwangi20/DataScienceSolutions/blob/master/Reddit.ipynb\" target=\"_parent\"><img src=\"https://colab.research.google.com/assets/colab-badge.svg\" alt=\"Open In Colab\"/></a>"
      ]
    },
    {
      "cell_type": "markdown",
      "metadata": {
        "id": "5TjBBvHxT_za",
        "colab_type": "text"
      },
      "source": [
        "#**Reddit Api**\n",
        "\n",
        "# Created on : 4 May,2020\n",
        "# Author : Shiwangi Garg\n",
        "\n",
        "This repository contains some uses of reddit api using OAuth2.\n",
        "\n",
        "If u don't have a reddit account, first create a reddit account.\n",
        "Then generate a client id and client secret. \n",
        "Refere https://github.com/reddit-archive/reddit/wiki/oauth2 on how to generate client id and client secret.This will be used as authentication.\n",
        "\n",
        "Refer to reddit documentation : https://www.reddit.com/dev/api/\n",
        "\n",
        "\n"
      ]
    },
    {
      "cell_type": "code",
      "metadata": {
        "id": "kfPKo_opUBS4",
        "colab_type": "code",
        "colab": {}
      },
      "source": [
        "client_id = # enter client_id here\n",
        "client_secret = \t# enter client secret here\n",
        "redirect_uri = # enter redirect uri here\n",
        "user_name = # enter reddit user name"
      ],
      "execution_count": 0,
      "outputs": []
    },
    {
      "cell_type": "code",
      "metadata": {
        "id": "m3bUp0BmrPG3",
        "colab_type": "code",
        "colab": {}
      },
      "source": [
        "import requests\n",
        "import json\n",
        "import pandas as pd"
      ],
      "execution_count": 0,
      "outputs": []
    },
    {
      "cell_type": "code",
      "metadata": {
        "id": "VfmJq7rrwsg7",
        "colab_type": "code",
        "colab": {}
      },
      "source": [
        "# get access token"
      ],
      "execution_count": 0,
      "outputs": []
    },
    {
      "cell_type": "code",
      "metadata": {
        "id": "j7U95rshrdlv",
        "colab_type": "code",
        "outputId": "d52198c3-e655-4847-834e-0fe52af4c986",
        "colab": {
          "base_uri": "https://localhost:8080/",
          "height": 34
        }
      },
      "source": [
        "data = {'client_id':client_id,'response_type':'code','state':'random','redirect_uri':redirect_uri,'scope':'read'}\n",
        "response = requests.get('https://www.reddit.com/api/v1/authorize',params = data)\n",
        "print(response.url)"
      ],
      "execution_count": 207,
      "outputs": [
        {
          "output_type": "stream",
          "text": [
            "https://www.reddit.com/api/v1/authorize?client_id=xJ-7JtiOL7sNhQ&response_type=code&state=random&redirect_uri=https%3A%2F%2Fwww.google.com%2F&scope=read\n"
          ],
          "name": "stdout"
        }
      ]
    },
    {
      "cell_type": "code",
      "metadata": {
        "id": "Hj2sagAlsWF6",
        "colab_type": "code",
        "colab": {}
      },
      "source": [
        "# go to the link and get the code\n",
        "code = 'o5aPhVxVUqJ7i4Edcgn2ZxfSZZ4'"
      ],
      "execution_count": 0,
      "outputs": []
    },
    {
      "cell_type": "code",
      "metadata": {
        "id": "2XBdTgKLsXqN",
        "colab_type": "code",
        "outputId": "8595ae45-7cec-425f-eb86-fa8e93480f4f",
        "colab": {
          "base_uri": "https://localhost:8080/",
          "height": 34
        }
      },
      "source": [
        "data = {'grant_type':'authorization_code','code':code,'redirect_uri':redirect_uri}\n",
        "response = requests.post('https://www.reddit.com/api/v1/access_token',data = data,auth = (client_id,client_secret),headers = {'User-Agent':user_name})\n",
        "print(response.text)"
      ],
      "execution_count": 209,
      "outputs": [
        {
          "output_type": "stream",
          "text": [
            "{\"access_token\": \"414752447315-BPCM06yLmWp0N8u1JIqcnk69Gkk\", \"token_type\": \"bearer\", \"expires_in\": 3600, \"scope\": \"read\"}\n"
          ],
          "name": "stdout"
        }
      ]
    },
    {
      "cell_type": "code",
      "metadata": {
        "id": "fUe6L77WthFv",
        "colab_type": "code",
        "colab": {}
      },
      "source": [
        "access_token = '414752447315-BPCM06yLmWp0N8u1JIqcnk69Gkk'"
      ],
      "execution_count": 0,
      "outputs": []
    },
    {
      "cell_type": "code",
      "metadata": {
        "id": "tDsB7z05w0nE",
        "colab_type": "code",
        "colab": {}
      },
      "source": [
        "# get request"
      ],
      "execution_count": 0,
      "outputs": []
    },
    {
      "cell_type": "code",
      "metadata": {
        "id": "gctptQ6_tlEN",
        "colab_type": "code",
        "colab": {}
      },
      "source": [
        "header = {'User-Agent': user_name,'Authorization':'bearer '+access_token}\n",
        "response = requests.get('https://oauth.reddit.com/best',headers = header)\n",
        "data = response.json()\n",
        "#print(data)"
      ],
      "execution_count": 0,
      "outputs": []
    },
    {
      "cell_type": "code",
      "metadata": {
        "id": "dA64wCKSaehQ",
        "colab_type": "code",
        "colab": {
          "base_uri": "https://localhost:8080/",
          "height": 824
        },
        "outputId": "dff9e240-f8d8-4e6a-ff15-00b00c444f22"
      },
      "source": [
        "title = []\n",
        "author = []\n",
        "score = []\n",
        "comments = []\n",
        "for row in data['data']['children']:\n",
        "  title.append(row['data']['title'])\n",
        "  author.append(row['data']['author_fullname'])\n",
        "  score.append(row['data']['score'])\n",
        "  comments.append(row['data']['num_comments'])\n",
        "df = pd.DataFrame(list(zip(title,author,score,comments)),columns = ['Title','Author','Score','Comments'])\n",
        "df"
      ],
      "execution_count": 213,
      "outputs": [
        {
          "output_type": "execute_result",
          "data": {
            "text/html": [
              "<div>\n",
              "<style scoped>\n",
              "    .dataframe tbody tr th:only-of-type {\n",
              "        vertical-align: middle;\n",
              "    }\n",
              "\n",
              "    .dataframe tbody tr th {\n",
              "        vertical-align: top;\n",
              "    }\n",
              "\n",
              "    .dataframe thead th {\n",
              "        text-align: right;\n",
              "    }\n",
              "</style>\n",
              "<table border=\"1\" class=\"dataframe\">\n",
              "  <thead>\n",
              "    <tr style=\"text-align: right;\">\n",
              "      <th></th>\n",
              "      <th>Title</th>\n",
              "      <th>Author</th>\n",
              "      <th>Score</th>\n",
              "      <th>Comments</th>\n",
              "    </tr>\n",
              "  </thead>\n",
              "  <tbody>\n",
              "    <tr>\n",
              "      <th>0</th>\n",
              "      <td>Archaeologists discover 41,000 year old yarn c...</td>\n",
              "      <td>t2_xno82</td>\n",
              "      <td>33570</td>\n",
              "      <td>910</td>\n",
              "    </tr>\n",
              "    <tr>\n",
              "      <th>1</th>\n",
              "      <td>Baltimore.</td>\n",
              "      <td>t2_5mfxe</td>\n",
              "      <td>149</td>\n",
              "      <td>4</td>\n",
              "    </tr>\n",
              "    <tr>\n",
              "      <th>2</th>\n",
              "      <td>Study estimates fuel economy improvements to U...</td>\n",
              "      <td>t2_3krs0</td>\n",
              "      <td>8344</td>\n",
              "      <td>587</td>\n",
              "    </tr>\n",
              "    <tr>\n",
              "      <th>3</th>\n",
              "      <td>No new coronavirus cases for the first time in...</td>\n",
              "      <td>t2_e53v5</td>\n",
              "      <td>35100</td>\n",
              "      <td>1223</td>\n",
              "    </tr>\n",
              "    <tr>\n",
              "      <th>4</th>\n",
              "      <td>Protest art in Hong Kong</td>\n",
              "      <td>t2_4gdf4leu</td>\n",
              "      <td>1998</td>\n",
              "      <td>45</td>\n",
              "    </tr>\n",
              "    <tr>\n",
              "      <th>5</th>\n",
              "      <td>Leaked Samsung Galaxy BudsX may be tailored fo...</td>\n",
              "      <td>t2_8ngf3</td>\n",
              "      <td>3116</td>\n",
              "      <td>195</td>\n",
              "    </tr>\n",
              "    <tr>\n",
              "      <th>6</th>\n",
              "      <td>Kathryn Bigelow's 1987 Horror-Western 'Near Da...</td>\n",
              "      <td>t2_a1s4w</td>\n",
              "      <td>18222</td>\n",
              "      <td>852</td>\n",
              "    </tr>\n",
              "    <tr>\n",
              "      <th>7</th>\n",
              "      <td>Zathura: Why Jon Favreau's Jumanji Spinoff Des...</td>\n",
              "      <td>t2_41qs4</td>\n",
              "      <td>11303</td>\n",
              "      <td>615</td>\n",
              "    </tr>\n",
              "    <tr>\n",
              "      <th>8</th>\n",
              "      <td>Teen Monitoring apps don't work. They just dri...</td>\n",
              "      <td>t2_4gu62w35</td>\n",
              "      <td>197</td>\n",
              "      <td>15</td>\n",
              "    </tr>\n",
              "    <tr>\n",
              "      <th>9</th>\n",
              "      <td>Brazil president still telling people to 'igno...</td>\n",
              "      <td>t2_gmsig</td>\n",
              "      <td>35171</td>\n",
              "      <td>1583</td>\n",
              "    </tr>\n",
              "    <tr>\n",
              "      <th>10</th>\n",
              "      <td>Yellow fat, eindhoven.</td>\n",
              "      <td>t2_4bqlixq3</td>\n",
              "      <td>70</td>\n",
              "      <td>1</td>\n",
              "    </tr>\n",
              "    <tr>\n",
              "      <th>11</th>\n",
              "      <td>More than 900 residents who snitched on lockdo...</td>\n",
              "      <td>t2_637rwdjc</td>\n",
              "      <td>1819</td>\n",
              "      <td>333</td>\n",
              "    </tr>\n",
              "    <tr>\n",
              "      <th>12</th>\n",
              "      <td>To the anti-quarantine protesters.</td>\n",
              "      <td>t2_7r5am</td>\n",
              "      <td>464</td>\n",
              "      <td>150</td>\n",
              "    </tr>\n",
              "    <tr>\n",
              "      <th>13</th>\n",
              "      <td>I was with my current GF and saw one of my exe...</td>\n",
              "      <td>t2_a7s2q</td>\n",
              "      <td>322</td>\n",
              "      <td>29</td>\n",
              "    </tr>\n",
              "    <tr>\n",
              "      <th>14</th>\n",
              "      <td>Morpheus in Austin, Texas</td>\n",
              "      <td>t2_4uo4fht</td>\n",
              "      <td>16</td>\n",
              "      <td>0</td>\n",
              "    </tr>\n",
              "    <tr>\n",
              "      <th>15</th>\n",
              "      <td>‘Child’s Play 2’ Is a Perfect Example of What ...</td>\n",
              "      <td>t2_41qs4</td>\n",
              "      <td>4325</td>\n",
              "      <td>339</td>\n",
              "    </tr>\n",
              "    <tr>\n",
              "      <th>16</th>\n",
              "      <td>Custom 1958 Cadillac</td>\n",
              "      <td>t2_337h2jy8</td>\n",
              "      <td>68</td>\n",
              "      <td>1</td>\n",
              "    </tr>\n",
              "    <tr>\n",
              "      <th>17</th>\n",
              "      <td>Coronavirus test kits used in Tanzania were di...</td>\n",
              "      <td>t2_znx17</td>\n",
              "      <td>3020</td>\n",
              "      <td>151</td>\n",
              "    </tr>\n",
              "    <tr>\n",
              "      <th>18</th>\n",
              "      <td>Payday Lenders Are Charging Up to 780% Interes...</td>\n",
              "      <td>t2_2yqt</td>\n",
              "      <td>5018</td>\n",
              "      <td>359</td>\n",
              "    </tr>\n",
              "    <tr>\n",
              "      <th>19</th>\n",
              "      <td>Portland, OR</td>\n",
              "      <td>t2_dckn6</td>\n",
              "      <td>13</td>\n",
              "      <td>0</td>\n",
              "    </tr>\n",
              "    <tr>\n",
              "      <th>20</th>\n",
              "      <td>Because go to your room</td>\n",
              "      <td>t2_5qsl4</td>\n",
              "      <td>1228</td>\n",
              "      <td>23</td>\n",
              "    </tr>\n",
              "    <tr>\n",
              "      <th>21</th>\n",
              "      <td>Third Russian doctor plunges from Covid hospit...</td>\n",
              "      <td>t2_obddh</td>\n",
              "      <td>44635</td>\n",
              "      <td>2156</td>\n",
              "    </tr>\n",
              "    <tr>\n",
              "      <th>22</th>\n",
              "      <td>New report says coronavirus pandemic could las...</td>\n",
              "      <td>t2_51dctjjj</td>\n",
              "      <td>7647</td>\n",
              "      <td>1056</td>\n",
              "    </tr>\n",
              "    <tr>\n",
              "      <th>23</th>\n",
              "      <td>Minor rape victim’s right to abort outweighs f...</td>\n",
              "      <td>t2_5y5txcdd</td>\n",
              "      <td>100644</td>\n",
              "      <td>4539</td>\n",
              "    </tr>\n",
              "    <tr>\n",
              "      <th>24</th>\n",
              "      <td>Canada pledges $170M to develop online mental ...</td>\n",
              "      <td>t2_4bxi11t9</td>\n",
              "      <td>1810</td>\n",
              "      <td>119</td>\n",
              "    </tr>\n",
              "  </tbody>\n",
              "</table>\n",
              "</div>"
            ],
            "text/plain": [
              "                                                Title  ... Comments\n",
              "0   Archaeologists discover 41,000 year old yarn c...  ...      910\n",
              "1                                          Baltimore.  ...        4\n",
              "2   Study estimates fuel economy improvements to U...  ...      587\n",
              "3   No new coronavirus cases for the first time in...  ...     1223\n",
              "4                            Protest art in Hong Kong  ...       45\n",
              "5   Leaked Samsung Galaxy BudsX may be tailored fo...  ...      195\n",
              "6   Kathryn Bigelow's 1987 Horror-Western 'Near Da...  ...      852\n",
              "7   Zathura: Why Jon Favreau's Jumanji Spinoff Des...  ...      615\n",
              "8   Teen Monitoring apps don't work. They just dri...  ...       15\n",
              "9   Brazil president still telling people to 'igno...  ...     1583\n",
              "10                             Yellow fat, eindhoven.  ...        1\n",
              "11  More than 900 residents who snitched on lockdo...  ...      333\n",
              "12                 To the anti-quarantine protesters.  ...      150\n",
              "13  I was with my current GF and saw one of my exe...  ...       29\n",
              "14                          Morpheus in Austin, Texas  ...        0\n",
              "15  ‘Child’s Play 2’ Is a Perfect Example of What ...  ...      339\n",
              "16                               Custom 1958 Cadillac  ...        1\n",
              "17  Coronavirus test kits used in Tanzania were di...  ...      151\n",
              "18  Payday Lenders Are Charging Up to 780% Interes...  ...      359\n",
              "19                                       Portland, OR  ...        0\n",
              "20                            Because go to your room  ...       23\n",
              "21  Third Russian doctor plunges from Covid hospit...  ...     2156\n",
              "22  New report says coronavirus pandemic could las...  ...     1056\n",
              "23  Minor rape victim’s right to abort outweighs f...  ...     4539\n",
              "24  Canada pledges $170M to develop online mental ...  ...      119\n",
              "\n",
              "[25 rows x 4 columns]"
            ]
          },
          "metadata": {
            "tags": []
          },
          "execution_count": 213
        }
      ]
    },
    {
      "cell_type": "code",
      "metadata": {
        "id": "8l3quBDww3WD",
        "colab_type": "code",
        "colab": {}
      },
      "source": [
        "# get the hot posts from reddit"
      ],
      "execution_count": 0,
      "outputs": []
    },
    {
      "cell_type": "code",
      "metadata": {
        "id": "6HKSKwIuxqA7",
        "colab_type": "code",
        "colab": {}
      },
      "source": [
        "header = {'User-Agent': user_name,'Authorization':'bearer '+access_token}\n",
        "response = requests.get('https://oauth.reddit.com/hot',headers = header)\n",
        "data = response.json()\n",
        "#print(data)"
      ],
      "execution_count": 0,
      "outputs": []
    },
    {
      "cell_type": "code",
      "metadata": {
        "id": "R6Cfth-_x-dJ",
        "colab_type": "code",
        "outputId": "7ed60437-e4be-4d0f-9276-2272dbfc3fac",
        "colab": {
          "base_uri": "https://localhost:8080/",
          "height": 824
        }
      },
      "source": [
        "title = []\n",
        "author = []\n",
        "score = []\n",
        "comments = []\n",
        "for row in data['data']['children']:\n",
        "  title.append(row['data']['title'])\n",
        "  author.append(row['data']['author_fullname'])\n",
        "  score.append(row['data']['score'])\n",
        "  comments.append(row['data']['num_comments'])\n",
        "df = pd.DataFrame(list(zip(title,author,score,comments)),columns = ['Title','Author','Score','Comments'])\n",
        "df"
      ],
      "execution_count": 216,
      "outputs": [
        {
          "output_type": "execute_result",
          "data": {
            "text/html": [
              "<div>\n",
              "<style scoped>\n",
              "    .dataframe tbody tr th:only-of-type {\n",
              "        vertical-align: middle;\n",
              "    }\n",
              "\n",
              "    .dataframe tbody tr th {\n",
              "        vertical-align: top;\n",
              "    }\n",
              "\n",
              "    .dataframe thead th {\n",
              "        text-align: right;\n",
              "    }\n",
              "</style>\n",
              "<table border=\"1\" class=\"dataframe\">\n",
              "  <thead>\n",
              "    <tr style=\"text-align: right;\">\n",
              "      <th></th>\n",
              "      <th>Title</th>\n",
              "      <th>Author</th>\n",
              "      <th>Score</th>\n",
              "      <th>Comments</th>\n",
              "    </tr>\n",
              "  </thead>\n",
              "  <tbody>\n",
              "    <tr>\n",
              "      <th>0</th>\n",
              "      <td>No new coronavirus cases for the first time in...</td>\n",
              "      <td>t2_e53v5</td>\n",
              "      <td>35122</td>\n",
              "      <td>1225</td>\n",
              "    </tr>\n",
              "    <tr>\n",
              "      <th>1</th>\n",
              "      <td>Archaeologists discover 41,000 year old yarn c...</td>\n",
              "      <td>t2_xno82</td>\n",
              "      <td>33582</td>\n",
              "      <td>910</td>\n",
              "    </tr>\n",
              "    <tr>\n",
              "      <th>2</th>\n",
              "      <td>Leaked Samsung Galaxy BudsX may be tailored fo...</td>\n",
              "      <td>t2_8ngf3</td>\n",
              "      <td>3119</td>\n",
              "      <td>195</td>\n",
              "    </tr>\n",
              "    <tr>\n",
              "      <th>3</th>\n",
              "      <td>Baltimore.</td>\n",
              "      <td>t2_5mfxe</td>\n",
              "      <td>150</td>\n",
              "      <td>4</td>\n",
              "    </tr>\n",
              "    <tr>\n",
              "      <th>4</th>\n",
              "      <td>Kathryn Bigelow's 1987 Horror-Western 'Near Da...</td>\n",
              "      <td>t2_a1s4w</td>\n",
              "      <td>18223</td>\n",
              "      <td>852</td>\n",
              "    </tr>\n",
              "    <tr>\n",
              "      <th>5</th>\n",
              "      <td>Protest art in Hong Kong</td>\n",
              "      <td>t2_4gdf4leu</td>\n",
              "      <td>1998</td>\n",
              "      <td>45</td>\n",
              "    </tr>\n",
              "    <tr>\n",
              "      <th>6</th>\n",
              "      <td>Zathura: Why Jon Favreau's Jumanji Spinoff Des...</td>\n",
              "      <td>t2_41qs4</td>\n",
              "      <td>11301</td>\n",
              "      <td>615</td>\n",
              "    </tr>\n",
              "    <tr>\n",
              "      <th>7</th>\n",
              "      <td>Study estimates fuel economy improvements to U...</td>\n",
              "      <td>t2_3krs0</td>\n",
              "      <td>8350</td>\n",
              "      <td>587</td>\n",
              "    </tr>\n",
              "    <tr>\n",
              "      <th>8</th>\n",
              "      <td>Brazil president still telling people to 'igno...</td>\n",
              "      <td>t2_gmsig</td>\n",
              "      <td>35171</td>\n",
              "      <td>1583</td>\n",
              "    </tr>\n",
              "    <tr>\n",
              "      <th>9</th>\n",
              "      <td>More than 900 residents who snitched on lockdo...</td>\n",
              "      <td>t2_637rwdjc</td>\n",
              "      <td>1811</td>\n",
              "      <td>333</td>\n",
              "    </tr>\n",
              "    <tr>\n",
              "      <th>10</th>\n",
              "      <td>Yellow fat, eindhoven.</td>\n",
              "      <td>t2_4bqlixq3</td>\n",
              "      <td>69</td>\n",
              "      <td>1</td>\n",
              "    </tr>\n",
              "    <tr>\n",
              "      <th>11</th>\n",
              "      <td>‘Child’s Play 2’ Is a Perfect Example of What ...</td>\n",
              "      <td>t2_41qs4</td>\n",
              "      <td>4332</td>\n",
              "      <td>339</td>\n",
              "    </tr>\n",
              "    <tr>\n",
              "      <th>12</th>\n",
              "      <td>Coronavirus test kits used in Tanzania were di...</td>\n",
              "      <td>t2_znx17</td>\n",
              "      <td>3022</td>\n",
              "      <td>151</td>\n",
              "    </tr>\n",
              "    <tr>\n",
              "      <th>13</th>\n",
              "      <td>Teen Monitoring apps don't work. They just dri...</td>\n",
              "      <td>t2_4gu62w35</td>\n",
              "      <td>195</td>\n",
              "      <td>15</td>\n",
              "    </tr>\n",
              "    <tr>\n",
              "      <th>14</th>\n",
              "      <td>Payday Lenders Are Charging Up to 780% Interes...</td>\n",
              "      <td>t2_2yqt</td>\n",
              "      <td>5014</td>\n",
              "      <td>359</td>\n",
              "    </tr>\n",
              "    <tr>\n",
              "      <th>15</th>\n",
              "      <td>Third Russian doctor plunges from Covid hospit...</td>\n",
              "      <td>t2_obddh</td>\n",
              "      <td>44637</td>\n",
              "      <td>2156</td>\n",
              "    </tr>\n",
              "    <tr>\n",
              "      <th>16</th>\n",
              "      <td>Morpheus in Austin, Texas</td>\n",
              "      <td>t2_4uo4fht</td>\n",
              "      <td>19</td>\n",
              "      <td>0</td>\n",
              "    </tr>\n",
              "    <tr>\n",
              "      <th>17</th>\n",
              "      <td>New report says coronavirus pandemic could las...</td>\n",
              "      <td>t2_51dctjjj</td>\n",
              "      <td>7642</td>\n",
              "      <td>1056</td>\n",
              "    </tr>\n",
              "    <tr>\n",
              "      <th>18</th>\n",
              "      <td>Minor rape victim’s right to abort outweighs f...</td>\n",
              "      <td>t2_5y5txcdd</td>\n",
              "      <td>100641</td>\n",
              "      <td>4539</td>\n",
              "    </tr>\n",
              "    <tr>\n",
              "      <th>19</th>\n",
              "      <td>Canada pledges $170M to develop online mental ...</td>\n",
              "      <td>t2_4bxi11t9</td>\n",
              "      <td>1815</td>\n",
              "      <td>119</td>\n",
              "    </tr>\n",
              "    <tr>\n",
              "      <th>20</th>\n",
              "      <td>To the anti-quarantine protesters.</td>\n",
              "      <td>t2_7r5am</td>\n",
              "      <td>459</td>\n",
              "      <td>150</td>\n",
              "    </tr>\n",
              "    <tr>\n",
              "      <th>21</th>\n",
              "      <td>I was with my current GF and saw one of my exe...</td>\n",
              "      <td>t2_a7s2q</td>\n",
              "      <td>320</td>\n",
              "      <td>29</td>\n",
              "    </tr>\n",
              "    <tr>\n",
              "      <th>22</th>\n",
              "      <td>Rome’s seagulls hunt rats and pigeons as lockd...</td>\n",
              "      <td>t2_zo5ob</td>\n",
              "      <td>6260</td>\n",
              "      <td>390</td>\n",
              "    </tr>\n",
              "    <tr>\n",
              "      <th>23</th>\n",
              "      <td>Custom 1958 Cadillac</td>\n",
              "      <td>t2_337h2jy8</td>\n",
              "      <td>67</td>\n",
              "      <td>1</td>\n",
              "    </tr>\n",
              "    <tr>\n",
              "      <th>24</th>\n",
              "      <td>Portland, OR</td>\n",
              "      <td>t2_dckn6</td>\n",
              "      <td>15</td>\n",
              "      <td>0</td>\n",
              "    </tr>\n",
              "  </tbody>\n",
              "</table>\n",
              "</div>"
            ],
            "text/plain": [
              "                                                Title  ... Comments\n",
              "0   No new coronavirus cases for the first time in...  ...     1225\n",
              "1   Archaeologists discover 41,000 year old yarn c...  ...      910\n",
              "2   Leaked Samsung Galaxy BudsX may be tailored fo...  ...      195\n",
              "3                                          Baltimore.  ...        4\n",
              "4   Kathryn Bigelow's 1987 Horror-Western 'Near Da...  ...      852\n",
              "5                            Protest art in Hong Kong  ...       45\n",
              "6   Zathura: Why Jon Favreau's Jumanji Spinoff Des...  ...      615\n",
              "7   Study estimates fuel economy improvements to U...  ...      587\n",
              "8   Brazil president still telling people to 'igno...  ...     1583\n",
              "9   More than 900 residents who snitched on lockdo...  ...      333\n",
              "10                             Yellow fat, eindhoven.  ...        1\n",
              "11  ‘Child’s Play 2’ Is a Perfect Example of What ...  ...      339\n",
              "12  Coronavirus test kits used in Tanzania were di...  ...      151\n",
              "13  Teen Monitoring apps don't work. They just dri...  ...       15\n",
              "14  Payday Lenders Are Charging Up to 780% Interes...  ...      359\n",
              "15  Third Russian doctor plunges from Covid hospit...  ...     2156\n",
              "16                          Morpheus in Austin, Texas  ...        0\n",
              "17  New report says coronavirus pandemic could las...  ...     1056\n",
              "18  Minor rape victim’s right to abort outweighs f...  ...     4539\n",
              "19  Canada pledges $170M to develop online mental ...  ...      119\n",
              "20                 To the anti-quarantine protesters.  ...      150\n",
              "21  I was with my current GF and saw one of my exe...  ...       29\n",
              "22  Rome’s seagulls hunt rats and pigeons as lockd...  ...      390\n",
              "23                               Custom 1958 Cadillac  ...        1\n",
              "24                                       Portland, OR  ...        0\n",
              "\n",
              "[25 rows x 4 columns]"
            ]
          },
          "metadata": {
            "tags": []
          },
          "execution_count": 216
        }
      ]
    },
    {
      "cell_type": "code",
      "metadata": {
        "id": "eSx6POWgKExA",
        "colab_type": "code",
        "colab": {}
      },
      "source": [
        "#get the display name"
      ],
      "execution_count": 0,
      "outputs": []
    },
    {
      "cell_type": "code",
      "metadata": {
        "id": "QptTkkaLKGPv",
        "colab_type": "code",
        "outputId": "6a09f229-197a-416b-f9c2-26a69c156a44",
        "colab": {
          "base_uri": "https://localhost:8080/",
          "height": 34
        }
      },
      "source": [
        "data = {'client_id':client_id,'response_type':'code','state':'random','redirect_uri':redirect_uri,'scope':'identity'}\n",
        "response = requests.get('https://www.reddit.com/api/v1/authorize',params = data)\n",
        "print(response.url)"
      ],
      "execution_count": 218,
      "outputs": [
        {
          "output_type": "stream",
          "text": [
            "https://www.reddit.com/api/v1/authorize?client_id=xJ-7JtiOL7sNhQ&response_type=code&state=random&redirect_uri=https%3A%2F%2Fwww.google.com%2F&scope=identity\n"
          ],
          "name": "stdout"
        }
      ]
    },
    {
      "cell_type": "code",
      "metadata": {
        "id": "VwKlO6b5jysv",
        "colab_type": "code",
        "colab": {}
      },
      "source": [
        "code = 'gJ-p9JdW5kheVcnir3uXrrXmJR4'"
      ],
      "execution_count": 0,
      "outputs": []
    },
    {
      "cell_type": "code",
      "metadata": {
        "id": "wEnkubzvj0sV",
        "colab_type": "code",
        "outputId": "3dd8deee-ff47-4b2f-b17c-3895bb7628f7",
        "colab": {
          "base_uri": "https://localhost:8080/",
          "height": 34
        }
      },
      "source": [
        "data = {'grant_type':'authorization_code','code':code,'redirect_uri':redirect_uri}\n",
        "response = requests.post('https://www.reddit.com/api/v1/access_token',data = data,auth = (client_id,client_secret),headers = {'User-Agent':user_name})\n",
        "print(response.text)"
      ],
      "execution_count": 220,
      "outputs": [
        {
          "output_type": "stream",
          "text": [
            "{\"access_token\": \"414752447315-X5UqKW90Jl5eU0umGqLssZfIA0k\", \"token_type\": \"bearer\", \"expires_in\": 3600, \"scope\": \"identity\"}\n"
          ],
          "name": "stdout"
        }
      ]
    },
    {
      "cell_type": "code",
      "metadata": {
        "id": "x5YQ8CqDj6L5",
        "colab_type": "code",
        "colab": {}
      },
      "source": [
        "access_token = \"414752447315-X5UqKW90Jl5eU0umGqLssZfIA0k\""
      ],
      "execution_count": 0,
      "outputs": []
    },
    {
      "cell_type": "code",
      "metadata": {
        "id": "gixBLThyj9Wg",
        "colab_type": "code",
        "outputId": "0e5cd200-1132-4862-8d48-83ce6ffe1199",
        "colab": {
          "base_uri": "https://localhost:8080/",
          "height": 34
        }
      },
      "source": [
        "header = {'User-Agent': user_name,'Authorization':'bearer '+access_token}\n",
        "response = requests.get('https://oauth.reddit.com/api/v1/me',headers = header)\n",
        "data = response.json()\n",
        "#print(data)\n",
        "print(response)"
      ],
      "execution_count": 222,
      "outputs": [
        {
          "output_type": "stream",
          "text": [
            "<Response [200]>\n"
          ],
          "name": "stdout"
        }
      ]
    },
    {
      "cell_type": "code",
      "metadata": {
        "id": "83me4Nn1kmNw",
        "colab_type": "code",
        "outputId": "cf09702b-1659-44bd-b2f9-101417f57e91",
        "colab": {
          "base_uri": "https://localhost:8080/",
          "height": 34
        }
      },
      "source": [
        "data['name']"
      ],
      "execution_count": 223,
      "outputs": [
        {
          "output_type": "execute_result",
          "data": {
            "text/plain": [
              "'gargS20'"
            ]
          },
          "metadata": {
            "tags": []
          },
          "execution_count": 223
        }
      ]
    },
    {
      "cell_type": "code",
      "metadata": {
        "id": "M1d3aIxvU5H2",
        "colab_type": "code",
        "colab": {}
      },
      "source": [
        "# subscribe to subreddit"
      ],
      "execution_count": 0,
      "outputs": []
    },
    {
      "cell_type": "code",
      "metadata": {
        "id": "JJNqJOEDVM6m",
        "colab_type": "code",
        "outputId": "a0046c74-21de-4c06-a0d3-632a5f1e2c2c",
        "colab": {
          "base_uri": "https://localhost:8080/",
          "height": 54
        }
      },
      "source": [
        "data = {'client_id':client_id,'response_type':'code','state':'random','redirect_uri':'https://www.google.com/','scope':'subscribe'}\n",
        "response = requests.get('https://www.reddit.com/api/v1/authorize',params = data)\n",
        "print(response.url)"
      ],
      "execution_count": 225,
      "outputs": [
        {
          "output_type": "stream",
          "text": [
            "https://www.reddit.com/login/?dest=https%3A%2F%2Fwww.reddit.com%2Fapi%2Fv1%2Fauthorize%3Fclient_id%3DxJ-7JtiOL7sNhQ%26response_type%3Dcode%26state%3Drandom%26redirect_uri%3Dhttps%253A%252F%252Fwww.google.com%252F%26scope%3Dsubscribe\n"
          ],
          "name": "stdout"
        }
      ]
    },
    {
      "cell_type": "code",
      "metadata": {
        "id": "qt1--7llVaxz",
        "colab_type": "code",
        "colab": {}
      },
      "source": [
        "code = 'gpzJ4ircK6UYxEUa1_4bLeOWfzs'"
      ],
      "execution_count": 0,
      "outputs": []
    },
    {
      "cell_type": "code",
      "metadata": {
        "id": "7iJgDYTBVc1l",
        "colab_type": "code",
        "outputId": "5c6c111e-4fea-45ac-9be3-b6639774df50",
        "colab": {
          "base_uri": "https://localhost:8080/",
          "height": 34
        }
      },
      "source": [
        "data = {'grant_type':'authorization_code','code':code,'redirect_uri':redirect_uri}\n",
        "response = requests.post('https://www.reddit.com/api/v1/access_token',data = data,auth = (client_id,client_secret),headers = {'User-Agent': user_name})\n",
        "print(response.text)"
      ],
      "execution_count": 229,
      "outputs": [
        {
          "output_type": "stream",
          "text": [
            "{\"access_token\": \"414752447315-JDkxzfg6FE5Ypu-3PJRJb_iX6rw\", \"token_type\": \"bearer\", \"expires_in\": 3600, \"scope\": \"subscribe\"}\n"
          ],
          "name": "stdout"
        }
      ]
    },
    {
      "cell_type": "code",
      "metadata": {
        "id": "hYQd8xj7VpQX",
        "colab_type": "code",
        "colab": {}
      },
      "source": [
        "access_token = \"414752447315-JDkxzfg6FE5Ypu-3PJRJb_iX6rw\""
      ],
      "execution_count": 0,
      "outputs": []
    },
    {
      "cell_type": "code",
      "metadata": {
        "id": "SICf-KrWVtVE",
        "colab_type": "code",
        "outputId": "c326712d-97cb-4a41-84d6-4975dde0b7ea",
        "colab": {
          "base_uri": "https://localhost:8080/",
          "height": 34
        }
      },
      "source": [
        "header = {'User-Agent': user_name,'Authorization':'bearer '+access_token}\n",
        "data = {'action' : 'sub','sr_name':'dataisbeautiful'}\n",
        "response = requests.post('https://oauth.reddit.com/api/subscribe',headers = header,data = data)\n",
        "print(response)"
      ],
      "execution_count": 231,
      "outputs": [
        {
          "output_type": "stream",
          "text": [
            "<Response [200]>\n"
          ],
          "name": "stdout"
        }
      ]
    },
    {
      "cell_type": "code",
      "metadata": {
        "id": "Ya81gJRQKhKK",
        "colab_type": "code",
        "colab": {}
      },
      "source": [
        "# unsubscribe to subreddit"
      ],
      "execution_count": 0,
      "outputs": []
    },
    {
      "cell_type": "code",
      "metadata": {
        "id": "NVZSWFw8KkSG",
        "colab_type": "code",
        "outputId": "ce2fdc0b-e93d-4cbe-ed7d-26059e62fd7a",
        "colab": {
          "base_uri": "https://localhost:8080/",
          "height": 34
        }
      },
      "source": [
        "data = {'action' : 'unsub','sr_name':'dataisbeautiful'}\n",
        "response = requests.post('https://oauth.reddit.com/api/subscribe',headers = header,data = data)\n",
        "print(response)"
      ],
      "execution_count": 233,
      "outputs": [
        {
          "output_type": "stream",
          "text": [
            "<Response [200]>\n"
          ],
          "name": "stdout"
        }
      ]
    },
    {
      "cell_type": "code",
      "metadata": {
        "id": "qfU5C_AQcCaY",
        "colab_type": "code",
        "colab": {}
      },
      "source": [
        "# controversial posts of subreddit"
      ],
      "execution_count": 0,
      "outputs": []
    },
    {
      "cell_type": "code",
      "metadata": {
        "id": "0qXClrGacXRy",
        "colab_type": "code",
        "outputId": "468e3937-8f6d-4c61-df6b-b2e4a7bd39d1",
        "colab": {
          "base_uri": "https://localhost:8080/",
          "height": 34
        }
      },
      "source": [
        "data = {'client_id':client_id,'response_type':'code','state':'random','redirect_uri':redirect_uri,'scope':'read'}\n",
        "response = requests.get('https://www.reddit.com/api/v1/authorize',params = data)\n",
        "print(response.url)"
      ],
      "execution_count": 235,
      "outputs": [
        {
          "output_type": "stream",
          "text": [
            "https://www.reddit.com/api/v1/authorize?client_id=xJ-7JtiOL7sNhQ&response_type=code&state=random&redirect_uri=https%3A%2F%2Fwww.google.com%2F&scope=read\n"
          ],
          "name": "stdout"
        }
      ]
    },
    {
      "cell_type": "code",
      "metadata": {
        "id": "VV6cbosfckV5",
        "colab_type": "code",
        "colab": {}
      },
      "source": [
        "code = 'SIwSeUdN2jegQaPfF6oL5Vfg3RU'"
      ],
      "execution_count": 0,
      "outputs": []
    },
    {
      "cell_type": "code",
      "metadata": {
        "id": "CPxZKJbhcmEU",
        "colab_type": "code",
        "outputId": "84944d86-25b7-4d31-8d24-44cbb02c3749",
        "colab": {
          "base_uri": "https://localhost:8080/",
          "height": 34
        }
      },
      "source": [
        "data = {'grant_type':'authorization_code','code':code,'redirect_uri':redirect_uri}\n",
        "response = requests.post('https://www.reddit.com/api/v1/access_token',data = data,auth = (client_id,client_secret),headers = {'User-Agent':user_name})\n",
        "print(response.text)"
      ],
      "execution_count": 237,
      "outputs": [
        {
          "output_type": "stream",
          "text": [
            "{\"access_token\": \"414752447315-FOkocAN0N-k3zMmZcy1ODfYXQtU\", \"token_type\": \"bearer\", \"expires_in\": 3600, \"scope\": \"read\"}\n"
          ],
          "name": "stdout"
        }
      ]
    },
    {
      "cell_type": "code",
      "metadata": {
        "id": "E10SMz0pcs0n",
        "colab_type": "code",
        "colab": {}
      },
      "source": [
        "access_token = \"414752447315-FOkocAN0N-k3zMmZcy1ODfYXQtU\""
      ],
      "execution_count": 0,
      "outputs": []
    },
    {
      "cell_type": "code",
      "metadata": {
        "id": "mCY4CsNwcwMz",
        "colab_type": "code",
        "colab": {}
      },
      "source": [
        "header = {'User-Agent':user_name,'Authorization':'bearer '+access_token}\n",
        "data = {'t':'month'}\n",
        "response = requests.get('https://oauth.reddit.com/r/news/controversial',headers = header,data = data)\n",
        "data = response.json()\n",
        "#print(data)"
      ],
      "execution_count": 0,
      "outputs": []
    },
    {
      "cell_type": "code",
      "metadata": {
        "id": "IHJE0LRwdJPV",
        "colab_type": "code",
        "outputId": "edf55b70-7093-4e54-8069-e9e251b377ec",
        "colab": {
          "base_uri": "https://localhost:8080/",
          "height": 442
        }
      },
      "source": [
        "li = data['data']['children']\n",
        "for l in li:\n",
        "  print(l['data']['title'])"
      ],
      "execution_count": 240,
      "outputs": [
        {
          "output_type": "stream",
          "text": [
            "Eiffel Tower lights up in 'Heroes Shine Bright' tribute to healthcare workers\n",
            "‘Swastikas and nooses’: governor slams ‘racism’ of Michigan lockdown protest\n",
            "Overland Park, KS Police Officer dies\n",
            "Dow futures fall more than 200 points amid concerns over reopening the economy\n",
            "'Do not buy from Muslims': BJP leader in India calls for boycott\n",
            "Man Tasered As Police Officers And Police Dog Injured After Being Shot With Catapult\n",
            "Love Bug's creator tracked down to repair shop in Manila\n",
            "Alaska airport reopens after bomb threat diverts cargo plane\n",
            "Weymouth woman 'threw unexploded WW2 bomb across garden'\n",
            "Crowds gathered at National Mall to watch Blue Angels, Thunderbirds flyover\n",
            "Michigan governor announces tuition-free educational program for essential workers\n",
            "Video shows NYPD officer punching man after alleged social distancing violation\n",
            "150,000 seafarers are in need of crew change by May 15\n",
            "Two teenagers arrested after 11-year-old boy shot in London\n",
            "Auschwitz Museum denounces woman holding Nazi sign at Illinois protest\n",
            "Black man shot dead while jogging in Georgia, and two months later, no arrests\n",
            "Faced with 20,000 dead, care homes seek shield from lawsuits\n",
            "Unimpressed by online classes, college students seek refunds\n",
            "Woman dies in alligator attack at South Carolina pond\n",
            "Court weighs in on applying mass gathering ban to churches\n",
            "Los Angeles police officer shot by fellow officer on camping trip, authorities say\n",
            "Danish police thwart plans for terror attack\n",
            "Queensland man sentenced to life for brutally raping, torturing woman over three-week period\n",
            "Women dressed as nurses are stealing packages off porches, Washington state police say\n",
            "A 'travel bubble' between New Zealand and Australia could be a model for the future\n"
          ],
          "name": "stdout"
        }
      ]
    },
    {
      "cell_type": "code",
      "metadata": {
        "id": "X2DBY52SfNIQ",
        "colab_type": "code",
        "colab": {}
      },
      "source": [
        "# gett the flare"
      ],
      "execution_count": 0,
      "outputs": []
    },
    {
      "cell_type": "code",
      "metadata": {
        "id": "MufgykFhf40M",
        "colab_type": "code",
        "outputId": "82f27dc2-d5cf-43c3-d4b1-a068ea6a33c1",
        "colab": {
          "base_uri": "https://localhost:8080/",
          "height": 34
        }
      },
      "source": [
        "data = {'client_id':client_id,'response_type':'code','state':'random','redirect_uri':redirect_uri,'scope':'flair'}\n",
        "response = requests.get('https://www.reddit.com/api/v1/authorize',params = data)\n",
        "print(response.url)"
      ],
      "execution_count": 242,
      "outputs": [
        {
          "output_type": "stream",
          "text": [
            "https://www.reddit.com/api/v1/authorize?client_id=xJ-7JtiOL7sNhQ&response_type=code&state=random&redirect_uri=https%3A%2F%2Fwww.google.com%2F&scope=flair\n"
          ],
          "name": "stdout"
        }
      ]
    },
    {
      "cell_type": "code",
      "metadata": {
        "id": "hwh-4ncWgFi0",
        "colab_type": "code",
        "colab": {}
      },
      "source": [
        "code = 'FcQl5va9HYX2Eabz2dwn1eJ0R-o'"
      ],
      "execution_count": 0,
      "outputs": []
    },
    {
      "cell_type": "code",
      "metadata": {
        "id": "i5WeYXrFgHTn",
        "colab_type": "code",
        "outputId": "7b9f061b-6022-4928-c271-a0f80edc2d7b",
        "colab": {
          "base_uri": "https://localhost:8080/",
          "height": 34
        }
      },
      "source": [
        "data = {'grant_type':'authorization_code','code':code,'redirect_uri':redirect_uri}\n",
        "response = requests.post('https://www.reddit.com/api/v1/access_token',data = data,auth = (client_id,client_secret),headers = {'User-Agent':user_name})\n",
        "print(response.text)"
      ],
      "execution_count": 244,
      "outputs": [
        {
          "output_type": "stream",
          "text": [
            "{\"access_token\": \"414752447315-e7mb0ylADV1hOAvhP2kWS-KJdiE\", \"token_type\": \"bearer\", \"expires_in\": 3600, \"scope\": \"flair\"}\n"
          ],
          "name": "stdout"
        }
      ]
    },
    {
      "cell_type": "code",
      "metadata": {
        "id": "nlvloWX-gO_z",
        "colab_type": "code",
        "colab": {}
      },
      "source": [
        "access_token = \"414752447315-e7mb0ylADV1hOAvhP2kWS-KJdiE\""
      ],
      "execution_count": 0,
      "outputs": []
    },
    {
      "cell_type": "code",
      "metadata": {
        "id": "cdnyR_p4gSgV",
        "colab_type": "code",
        "colab": {}
      },
      "source": [
        "header = {'User-Agent': user_name,'Authorization':'bearer '+access_token}\n",
        "response = requests.get('https://oauth.reddit.com/r/anime/api/user_flair_v2',headers = header)\n",
        "data = response.json()\n",
        "#print(data)"
      ],
      "execution_count": 0,
      "outputs": []
    },
    {
      "cell_type": "code",
      "metadata": {
        "id": "fVriSsOsh3ia",
        "colab_type": "code",
        "outputId": "07b15f95-f66d-4cdf-bd2e-6637442ccb80",
        "colab": {
          "base_uri": "https://localhost:8080/",
          "height": 1000
        }
      },
      "source": [
        "data"
      ],
      "execution_count": 247,
      "outputs": [
        {
          "output_type": "execute_result",
          "data": {
            "text/plain": [
              "[{'allowable_content': 'all',\n",
              "  'background_color': '#2e51a2',\n",
              "  'css_class': 'MAL',\n",
              "  'id': 'eb56b178-4b3d-11e1-98ee-12313b08a511',\n",
              "  'max_emojis': 10,\n",
              "  'mod_only': False,\n",
              "  'override_css': False,\n",
              "  'richtext': [],\n",
              "  'text': 'https://myanimelist.net/profile/',\n",
              "  'text_color': 'light',\n",
              "  'text_editable': True,\n",
              "  'type': 'text'},\n",
              " {'allowable_content': 'all',\n",
              "  'background_color': '#13e9f7',\n",
              "  'css_class': 'AP',\n",
              "  'id': 'cd781046-757e-11e1-bbf9-12313d2c1af1',\n",
              "  'max_emojis': 10,\n",
              "  'mod_only': False,\n",
              "  'override_css': False,\n",
              "  'richtext': [],\n",
              "  'text': 'http://www.anime-planet.com/forum/members/',\n",
              "  'text_color': 'light',\n",
              "  'text_editable': True,\n",
              "  'type': 'text'},\n",
              " {'allowable_content': 'all',\n",
              "  'background_color': '#fd755c',\n",
              "  'css_class': 'HB',\n",
              "  'id': '9421e088-b812-11e2-b831-12313b0b21ae',\n",
              "  'max_emojis': 10,\n",
              "  'mod_only': False,\n",
              "  'override_css': False,\n",
              "  'richtext': [],\n",
              "  'text': 'https://kitsu.io/users/',\n",
              "  'text_color': 'light',\n",
              "  'text_editable': True,\n",
              "  'type': 'text'},\n",
              " {'allowable_content': 'all',\n",
              "  'background_color': '#02a9ff',\n",
              "  'css_class': 'ANI',\n",
              "  'id': '38d447e6-1c23-11e3-89d8-12313d096169',\n",
              "  'max_emojis': 10,\n",
              "  'mod_only': False,\n",
              "  'override_css': False,\n",
              "  'richtext': [],\n",
              "  'text': 'https://anilist.co/user/',\n",
              "  'text_color': 'light',\n",
              "  'text_editable': True,\n",
              "  'type': 'text'},\n",
              " {'allowable_content': 'all',\n",
              "  'background_color': '#12679b',\n",
              "  'css_class': 'ann',\n",
              "  'id': 'd01f2890-bcaf-11e4-9b5c-22000b3d83a4',\n",
              "  'max_emojis': 10,\n",
              "  'mod_only': False,\n",
              "  'override_css': False,\n",
              "  'richtext': [],\n",
              "  'text': 'http://www.animenewsnetwork.com/bbs/phpBB2/profile.php',\n",
              "  'text_color': 'light',\n",
              "  'text_editable': True,\n",
              "  'type': 'text'},\n",
              " {'allowable_content': 'all',\n",
              "  'background_color': '#ffaa55',\n",
              "  'css_class': 'anidb',\n",
              "  'id': 'd2715212-bcaf-11e4-bce0-22000b36913c',\n",
              "  'max_emojis': 10,\n",
              "  'mod_only': False,\n",
              "  'override_css': False,\n",
              "  'richtext': [],\n",
              "  'text': 'http://anidb.net/perl-bin/animedb.pl?show=userpage',\n",
              "  'text_color': 'light',\n",
              "  'text_editable': True,\n",
              "  'type': 'text'},\n",
              " {'allowable_content': 'all',\n",
              "  'background_color': '#dadada',\n",
              "  'css_class': '',\n",
              "  'id': 'be3d8e7e-3848-11e8-bf1b-0e416e33973c',\n",
              "  'max_emojis': 10,\n",
              "  'mod_only': False,\n",
              "  'override_css': False,\n",
              "  'richtext': [],\n",
              "  'text': 'Custom list link',\n",
              "  'text_color': 'dark',\n",
              "  'text_editable': True,\n",
              "  'type': 'text'}]"
            ]
          },
          "metadata": {
            "tags": []
          },
          "execution_count": 247
        }
      ]
    },
    {
      "cell_type": "code",
      "metadata": {
        "id": "jEmIGNbYLS3b",
        "colab_type": "code",
        "colab": {}
      },
      "source": [
        "# reddit new comments on top most post of subreddit"
      ],
      "execution_count": 0,
      "outputs": []
    },
    {
      "cell_type": "code",
      "metadata": {
        "id": "nHAsU7gRRDsz",
        "colab_type": "code",
        "outputId": "ba3ceaff-eb3c-4661-cf57-448367781e12",
        "colab": {
          "base_uri": "https://localhost:8080/",
          "height": 34
        }
      },
      "source": [
        "data = {'client_id':client_id,'response_type':'code','state':'random','redirect_uri':redirect_uri,'scope':'read'}\n",
        "response = requests.get('https://www.reddit.com/api/v1/authorize',params = data)\n",
        "print(response.url)"
      ],
      "execution_count": 249,
      "outputs": [
        {
          "output_type": "stream",
          "text": [
            "https://www.reddit.com/api/v1/authorize?client_id=xJ-7JtiOL7sNhQ&response_type=code&state=random&redirect_uri=https%3A%2F%2Fwww.google.com%2F&scope=read\n"
          ],
          "name": "stdout"
        }
      ]
    },
    {
      "cell_type": "code",
      "metadata": {
        "id": "mfLmxriARH_h",
        "colab_type": "code",
        "colab": {}
      },
      "source": [
        "code = 'ZW9Jc_hbhghYyl7FRzO2zmuEzWw'"
      ],
      "execution_count": 0,
      "outputs": []
    },
    {
      "cell_type": "code",
      "metadata": {
        "id": "2eEaprImRNKN",
        "colab_type": "code",
        "outputId": "a80de483-19f0-4a80-ad3e-f7fc18276e23",
        "colab": {
          "base_uri": "https://localhost:8080/",
          "height": 34
        }
      },
      "source": [
        "data = {'grant_type':'authorization_code','code':code,'redirect_uri':redirect_uri}\n",
        "response = requests.post('https://www.reddit.com/api/v1/access_token',data = data,auth = (client_id,client_secret),headers = {'User-Agent':user_name})\n",
        "print(response.text)"
      ],
      "execution_count": 251,
      "outputs": [
        {
          "output_type": "stream",
          "text": [
            "{\"access_token\": \"414752447315-XJZJqswrtHeUm2BvojMuajn1gts\", \"token_type\": \"bearer\", \"expires_in\": 3600, \"scope\": \"read\"}\n"
          ],
          "name": "stdout"
        }
      ]
    },
    {
      "cell_type": "code",
      "metadata": {
        "id": "ez3mzUsRRSyH",
        "colab_type": "code",
        "colab": {}
      },
      "source": [
        "access_token = \"414752447315-XJZJqswrtHeUm2BvojMuajn1gts\""
      ],
      "execution_count": 0,
      "outputs": []
    },
    {
      "cell_type": "code",
      "metadata": {
        "id": "JIdeoGZXRVvu",
        "colab_type": "code",
        "outputId": "e0e3e38b-5082-4b20-9b70-a2cc4ed2fbc9",
        "colab": {
          "base_uri": "https://localhost:8080/",
          "height": 34
        }
      },
      "source": [
        "header = {'User-Agent':user_name,'Authorization':'bearer '+access_token}\n",
        "response = requests.get('https://oauth.reddit.com/r/dataisbeautiful/new',headers = header)\n",
        "data = response.json()\n",
        "#print(data)\n",
        "print(response)"
      ],
      "execution_count": 253,
      "outputs": [
        {
          "output_type": "stream",
          "text": [
            "<Response [200]>\n"
          ],
          "name": "stdout"
        }
      ]
    },
    {
      "cell_type": "code",
      "metadata": {
        "id": "tUmaDETyUN-r",
        "colab_type": "code",
        "outputId": "f5f3af2c-20a3-404e-9268-9bfa18cc2c27",
        "colab": {
          "base_uri": "https://localhost:8080/",
          "height": 34
        }
      },
      "source": [
        "print(data['data']['children'][0]['data']['id'])"
      ],
      "execution_count": 254,
      "outputs": [
        {
          "output_type": "stream",
          "text": [
            "gd6pwi\n"
          ],
          "name": "stdout"
        }
      ]
    },
    {
      "cell_type": "code",
      "metadata": {
        "id": "RLBjltX7UqbJ",
        "colab_type": "code",
        "colab": {}
      },
      "source": [
        "response = requests.get('https://oauth.reddit.com/r/dataisbeautiful/comments/gd6pwi',headers = header)\n",
        "data = response.json()\n",
        "#data"
      ],
      "execution_count": 0,
      "outputs": []
    },
    {
      "cell_type": "code",
      "metadata": {
        "id": "p7OlCTJjinTx",
        "colab_type": "code",
        "colab": {
          "base_uri": "https://localhost:8080/",
          "height": 34
        },
        "outputId": "24aa4e2c-5dfc-490a-97ad-f0b9eac786f2"
      },
      "source": [
        "num_comments = data[0]['data']['children'][0]['data']['num_comments']\n",
        "num_comments"
      ],
      "execution_count": 261,
      "outputs": [
        {
          "output_type": "execute_result",
          "data": {
            "text/plain": [
              "1"
            ]
          },
          "metadata": {
            "tags": []
          },
          "execution_count": 261
        }
      ]
    },
    {
      "cell_type": "code",
      "metadata": {
        "id": "CVP1qyBdcZbt",
        "colab_type": "code",
        "colab": {}
      },
      "source": [
        "comments = data[1]['data']['children']\n",
        "comments\n",
        "for com in comments:\n",
        "  print(com['data']['body'])"
      ],
      "execution_count": 0,
      "outputs": []
    }
  ]
}