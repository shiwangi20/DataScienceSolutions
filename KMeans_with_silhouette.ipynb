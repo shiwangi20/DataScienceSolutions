{
  "nbformat": 4,
  "nbformat_minor": 0,
  "metadata": {
    "colab": {
      "name": "KMeans with silhouette.ipynb",
      "provenance": [],
      "authorship_tag": "ABX9TyO58fq5RCd5WP5Ygt9b7CqL",
      "include_colab_link": true
    },
    "kernelspec": {
      "name": "python3",
      "display_name": "Python 3"
    }
  },
  "cells": [
    {
      "cell_type": "markdown",
      "metadata": {
        "id": "view-in-github",
        "colab_type": "text"
      },
      "source": [
        "<a href=\"https://colab.research.google.com/github/shiwangi20/DataScienceSolutions/blob/master/KMeans_with_silhouette.ipynb\" target=\"_parent\"><img src=\"https://colab.research.google.com/assets/colab-badge.svg\" alt=\"Open In Colab\"/></a>"
      ]
    },
    {
      "cell_type": "markdown",
      "metadata": {
        "id": "N57u2vXwUrPO",
        "colab_type": "text"
      },
      "source": [
        "# Title : KMeans implementation from scratch using Silhouette Distance to find optimum K value\n",
        "\n",
        "Created on :  8 May, 2020\n",
        "Author : Shiwangi Garg"
      ]
    },
    {
      "cell_type": "code",
      "metadata": {
        "id": "deNcefBmUqPp",
        "colab_type": "code",
        "colab": {}
      },
      "source": [
        "import numpy as np\n",
        "import matplotlib.pyplot as plt"
      ],
      "execution_count": 0,
      "outputs": []
    },
    {
      "cell_type": "code",
      "metadata": {
        "id": "7wHBESz0pK-W",
        "colab_type": "code",
        "colab": {}
      },
      "source": [
        "class K_Means:\n",
        "  def __init__(self,k = 2,max_iter = 300):\n",
        "    self.k = k\n",
        "    self.max_iter = max_iter\n",
        "    self.means = []\n",
        "    self.labels = []\n",
        "    self.clusters = []\n",
        "\n",
        "  def fit(self,data):\n",
        "    self.means = []\n",
        "\n",
        "    # randomly assign values of means\n",
        "    for i in range(self.k):\n",
        "      self.means.append(data[i+self.k])\n",
        "    \n",
        "    for i in range(self.max_iter):\n",
        "      # make clusters\n",
        "      self.clusters = []\n",
        "      for j in range(self.k):\n",
        "        self.clusters.append([])\n",
        "      \n",
        "      self.labels = []\n",
        "      # assign each data point to clusters\n",
        "      for points in data:\n",
        "        # find distance to each mean\n",
        "        distances = [((points - m)**2).sum() for m in self.means]\n",
        "        # find minimum distance\n",
        "        min_distance = min(distances)\n",
        "        # find index of mean corresponding to minimum distance\n",
        "        label = distances.index(min_distance)\n",
        "        # assign point to cluster\n",
        "        self.clusters[label].append(points)\n",
        "        # assign labels\n",
        "        self.labels.append(label)\n",
        "\n",
        "      \n",
        "      # if there is no change in mean stop early\n",
        "      change = True\n",
        "\n",
        "      # update the new means\n",
        "      for j in range(self.k):\n",
        "        new_mean = np.average(self.clusters[i])\n",
        "        if np.array_equal(new_mean,self.means[i]):\n",
        "          change =  False\n",
        "        else:\n",
        "          self.means[i] = new_mean\n",
        "          change = True\n",
        "      \n",
        "      if not change:\n",
        "        break\n",
        "\n",
        "  def predict(self,data):\n",
        "    predictions = []\n",
        "\n",
        "    for points in data:\n",
        "      # find distance to each mean\n",
        "      distances = [((points - m)**2).sum() for m in self.means]\n",
        "      # find minimum distance\n",
        "      min_distance = min(distances)\n",
        "      # find index of mean corresponding to minimum distance\n",
        "      min_distance_index = distances.index(min_distance)\n",
        "      # find the cluster\n",
        "      predictions.append(min_distance_index)\n",
        "\n",
        "    return predictions\n",
        "\n",
        "  def silhoutte(self,data,k_start = 1,k_end = 2):\n",
        "    silhouette_distance = []\n",
        "\n",
        "    for k in range(k_start,k_end+1):\n",
        "      # calculate silhouette distances for each data point\n",
        "      s_distances = []\n",
        "      self.k = k\n",
        "      # fit the data in k clusters\n",
        "      self.fit(data)\n",
        "      # find s[i] for each data point\n",
        "\n",
        "      for i in range(len(data)):\n",
        "        index = self.labels[i]\n",
        "        # calculate a\n",
        "        a = (sum([((data[i] - point)**2).sum() for point in self.clusters[index]])/len(self.clusters[index]))\n",
        "        # calculate b\n",
        "        distances = [(sum([((data[i] - point)**2).sum() for point in self.clusters[j]])/len(self.clusters[j])) if len(self.clusters[j]) else float('inf') for j in range(k) if j != index]\n",
        "        b = min(distances)\n",
        "        # calculate s\n",
        "        s = abs((b - a))/max(a,b)\n",
        "        s_distances.append(s)\n",
        "\n",
        "      # take average \n",
        "      avg = np.average(s_distances)\n",
        "      silhouette_distance.append(avg)\n",
        "\n",
        "    # find the maximum value of silhouette distances and corresponding value of k\n",
        "    best_k = k_start + silhouette_distance.index(max(silhouette_distance))\n",
        "    return best_k"
      ],
      "execution_count": 0,
      "outputs": []
    },
    {
      "cell_type": "code",
      "metadata": {
        "id": "K9IlIWSCyWD1",
        "colab_type": "code",
        "colab": {
          "base_uri": "https://localhost:8080/",
          "height": 282
        },
        "outputId": "04b893bb-5329-49c7-b03a-fb533f5f60fe"
      },
      "source": [
        "x = np.array([[1,1.5],[1.5,1.8],[5,4],[3,7],[2.5,7],[3,6],[5.5,2],[5,1.5],[6,1.5],[1,0.6],[6,4],[2,6.5]])\n",
        "np.random.shuffle(x)\n",
        "plt.scatter(x[:,0],x[:,1])"
      ],
      "execution_count": 185,
      "outputs": [
        {
          "output_type": "execute_result",
          "data": {
            "text/plain": [
              "<matplotlib.collections.PathCollection at 0x7f7f64b9afd0>"
            ]
          },
          "metadata": {
            "tags": []
          },
          "execution_count": 185
        },
        {
          "output_type": "display_data",
          "data": {
            "image/png": "[encoded data removed]",
            "text/plain": [
              "<Figure size 432x288 with 1 Axes>"
            ]
          },
          "metadata": {
            "tags": [],
            "needs_background": "light"
          }
        }
      ]
    },
    {
      "cell_type": "code",
      "metadata": {
        "id": "xW3_wPFDznMi",
        "colab_type": "code",
        "colab": {
          "base_uri": "https://localhost:8080/",
          "height": 34
        },
        "outputId": "849eb969-22ce-49d3-a493-380f0668c409"
      },
      "source": [
        "k_means = K_Means()\n",
        "best_k = k_means.silhoutte(x,2,5)\n",
        "best_k"
      ],
      "execution_count": 186,
      "outputs": [
        {
          "output_type": "execute_result",
          "data": {
            "text/plain": [
              "3"
            ]
          },
          "metadata": {
            "tags": []
          },
          "execution_count": 186
        }
      ]
    },
    {
      "cell_type": "code",
      "metadata": {
        "id": "AfgpQyw70TT0",
        "colab_type": "code",
        "colab": {}
      },
      "source": [
        "k_means1 = K_Means(best_k)\n",
        "k_means1.fit(x)"
      ],
      "execution_count": 0,
      "outputs": []
    },
    {
      "cell_type": "code",
      "metadata": {
        "id": "59WQEy8f0CWX",
        "colab_type": "code",
        "colab": {
          "base_uri": "https://localhost:8080/",
          "height": 282
        },
        "outputId": "9e02cebe-5394-4724-feb2-8d747181acad"
      },
      "source": [
        "plt.scatter(x[:,0],x[:,1],c = k_means1.labels)"
      ],
      "execution_count": 188,
      "outputs": [
        {
          "output_type": "execute_result",
          "data": {
            "text/plain": [
              "<matplotlib.collections.PathCollection at 0x7f7f646ab8d0>"
            ]
          },
          "metadata": {
            "tags": []
          },
          "execution_count": 188
        },
        {
          "output_type": "display_data",
          "data": {
            "image/png": "[encoded data removed]",
            "text/plain": [
              "<Figure size 432x288 with 1 Axes>"
            ]
          },
          "metadata": {
            "tags": [],
            "needs_background": "light"
          }
        }
      ]
    }
  ]
}